{
  "cells": [
    {
      "cell_type": "code",
      "source": [
        "from IPython.display import Image\n",
        "Image(url='https://s3.amazonaws.com/blaze4/HK+logo.png')"
      ],
      "outputs": [
        {
          "output_type": "execute_result",
          "execution_count": 6,
          "data": {
            "text/html": [
              "<img src=\"https://s3.amazonaws.com/blaze4/HK+logo.png\"/>"
            ],
            "text/plain": [
              "<IPython.core.display.Image object>"
            ]
          },
          "metadata": {}
        }
      ],
      "execution_count": 6,
      "metadata": {
        "collapsed": false,
        "outputHidden": false,
        "inputHidden": true
      }
    },
    {
      "cell_type": "markdown",
      "source": [
        "# The H&K Lawyer Toolkit\n",
        "\n",
        "A collection of simple, yet powerful tools for lawyers to do their jobs better and more efficiently. These tools leverage the following technology and approaches to problem solving:\n",
        "\n",
        "* Data analysis\n",
        "* Natural language processing\n",
        "* Machine learning\n",
        "* Network graphing:\n",
        "  * Should be able to identify relationsips\n",
        "  * Relationships should be explored visually"
      ],
      "metadata": {
        "collapsed": false,
        "outputHidden": false,
        "inputHidden": false
      }
    },
    {
      "cell_type": "code",
      "source": [
        "import pandas as pd\n",
        "from vdom import pre\n",
        "\n",
        "pd.options.display.html.table_schema = True # Data Explorer On!\n",
        "pd.options.display.max_rows = None # Send all the data! (careful!)"
      ],
      "outputs": [],
      "execution_count": 8,
      "metadata": {
        "collapsed": true,
        "inputHidden": true
      }
    },
    {
      "cell_type": "code",
      "source": [
        "import IPython\n",
        "\n",
        "from IPython.display import HTML\n",
        "from IPython.display import Markdown\n",
        "from IPython.display import display"
      ],
      "outputs": [],
      "execution_count": null,
      "metadata": {
        "collapsed": false,
        "outputHidden": false,
        "inputHidden": true
      }
    },
    {
      "cell_type": "code",
      "source": [
        "import IPython\n",
        "\n",
        "from IPython.display import HTML\n",
        "from IPython.display import Markdown\n",
        "from IPython.display import display\n",
        "import pandas as pd\n",
        "import io\n",
        "import requests\n",
        "\n",
        "url = \"https://s3.amazonaws.com/blaze4/decline3.csv\"\n",
        "s = requests.get(url).content\n",
        "s = s.decode('utf-8')\n",
        "s_rows = s.split('\\n')\n",
        "s_rows_cols = [each.split() for each in s_rows]\n",
        "header_row = ['Client', '2017 through June', '2018 through June', 'Sum of Change', 'change', 'one', 'two']\n",
        "c = pd.DataFrame(s_rows_cols, columns = header_row)\n",
        "c.head()\n",
        "#df = pd.read_csv('/Users/josiasdewey/jupyter/CAN/assets/spreadsheets/decline.csv')\n",
        "\n",
        "display(pre(\"Note: This data is sampled\"))\n",
        "c"
      ],
      "outputs": [
        {
          "output_type": "display_data",
          "data": {
            "application/vdom.v1+json": {
              "tagName": "pre",
              "attributes": {},
              "children": "Note: This data is sampled"
            },
            "text/plain": [
              "<pre />"
            ]
          },
          "metadata": {}
        },
        {
          "output_type": "display_data",
          "data": {
            "application/vnd.jupyter.widget-view+json": {
              "version_major": 2,
              "version_minor": 0,
              "model_id": "5666c40bbd4b4192bd9884e5df694535"
            }
          },
          "metadata": {}
        }
      ],
      "execution_count": 24,
      "metadata": {
        "collapsed": false,
        "outputHidden": false,
        "inputHidden": false,
        "outputExpanded": true
      }
    },
    {
      "cell_type": "code",
      "source": [],
      "outputs": [],
      "execution_count": null,
      "metadata": {
        "collapsed": false,
        "outputHidden": false,
        "inputHidden": false
      }
    }
  ],
  "metadata": {
    "kernelspec": {
      "name": "python3",
      "language": "python",
      "display_name": "Python 3"
    },
    "language_info": {
      "name": "python",
      "version": "3.6.4",
      "mimetype": "text/x-python",
      "codemirror_mode": {
        "name": "ipython",
        "version": 3
      },
      "pygments_lexer": "ipython3",
      "nbconvert_exporter": "python",
      "file_extension": ".py"
    },
    "kernel_info": {
      "name": "python3"
    },
    "nteract": {
      "version": "0.11.6"
    },
    "gist_id": "360091f27d7a0fda116e177da1c8fd49"
  },
  "nbformat": 4,
  "nbformat_minor": 0
}