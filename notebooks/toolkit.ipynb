{
 "cells": [
  {
   "cell_type": "markdown",
   "metadata": {
    "collapsed": false,
    "outputHidden": false,
    "inputHidden": false
   },
   "source": [
    "![alt text](https://s3.amazonaws.com/blaze4/HK+logo.png)\n",
    "# The H&K Lawyer Notebook\n",
    "\nA collection of simple, yet powerful tools for lawyers to do their jobs better and more efficiently. These tools leverage data analytics, natural language processing, machine learning, network graphing and other open source solutions. Each solution was designed to be a powerful solution to be easy to use while "
   ]
  },
  {
   "cell_type": "markdown",
   "metadata": {},
   "source": [
    "### Bulk Comparisons\n",
    "\nCompare a large number of documents against a common base document.  For example, compare lease agreements against lease form to determine deviations from approved form. "
   ]
  },
  {
   "cell_type": "markdown",
   "metadata": {},
   "source": [
    "### Classifier\n",
    "Classify text using one of several trained machine learning models."
   ]
  },
  {
   "cell_type": "markdown",
   "metadata": {},
   "source": [
    "### Clustering and Topic Modeler\n",
    "Cluster text into similar topics.  Find similar text within several documents."
   ]
  },
  {
   "cell_type": "markdown",
   "metadata": {},
   "source": [
    "### Signature Page Generator\n",
    "Generate signature pages with the press of a button."
   ]
  },
  {
   "cell_type": "markdown",
   "metadata": {},
   "source": [
    "Load docx"
   ]
  },
  {
   "cell_type": "markdown",
   "metadata": {},
   "source": [
    "### Closing Binder Generator"
   ]
  },
  {
   "cell_type": "markdown",
   "metadata": {},
   "source": [
    "### QuickCAN\n",
    "Computer generated revisions to contracts based on precedent clause database.  Machine learning algorithms and fuzzy matching are used to incorporate revisions made to similar text in precedent clauses."
   ]
  },
  {
   "cell_type": "code",
   "execution_count": null,
   "metadata": {
    "collapsed": false,
    "outputHidden": false,
    "inputHidden": false
   },
   "outputs": [],
   "source": [
    "doc = input('Enter filename of document under review and press enter:')"
   ]
  },
  {
   "cell_type": "code",
   "execution_count": 12,
   "metadata": {
    "collapsed": false,
    "outputHidden": false,
    "inputHidden": false
   },
   "outputs": [
    {
     "name": "stdout",
     "output_type": "stream",
     "text": [
      "Excel write complete\n"
     ]
    }
   ],
   "source": [
    "import textlib\n",
    "from textlib import load_raw\n",
    "from textlib import html_from_file_no_tags\n",
    "from textlib import normalize_sent\n",
    "from textlib import save_list_as_excel\n",
    "import re\n",
    "import nltk\n",
    "from nltk.tokenize import sent_tokenize\n",
    "import pandas as pd\n",
    "\n",
    "doc = ''\n",
    "if doc == '':\n",
    "    doc = '/Users/josiasdewey/jupyter/CAN/assets/test_html/6ERGGP7SEwTg2LFoSa39Rd.html'\n",
    "else:\n",
    "    doc = doc\n",
    "\n",
    "current_raw_sent_list = []\n",
    "current_clean_sent_list = []\n",
    "\n",
    "sent_list = sent_tokenize(load_raw(doc))\n",
    "for sent in sent_list:\n",
    "    clean_sent = normalize_sent(sent)\n",
    "    current_clean_sent_list.append(clean_sent)\n",
    "    current_raw_sent_list.append(sent)\n",
    "save_list_as_excel('current.xlsx', current_clean_sent_list, current_raw_sent_list)\n",
    "df = pd.read_excel('current.xlsx')"
   ]
  },
  {
   "cell_type": "code",
   "execution_count": 13,
   "metadata": {
    "collapsed": false,
    "outputHidden": false,
    "inputHidden": false
   },
   "outputs": [
    {
     "name": "stdout",
     "output_type": "stream",
     "text": [
      "                                                   text  label  \\\n",
      "0     now therefore consideration mutual agreements ...  label   \n",
      "1                                   the credit facility  label   \n",
      "2                                               section  label   \n",
      "3                                           commitments  label   \n",
      "4     subject terms conditions hereof lender accepta...  label   \n",
      "5     dollars borrower time time revolving basis amo...  label   \n",
      "6     the sum aggregate principal amount revolving l...  label   \n",
      "7     each borrowing revolving loans shall made rata...  label   \n",
      "8     as provided section hereof borrower may elect ...  label   \n",
      "9     revolving loans may repaid principal amount th...  label   \n",
      "10                                              section  label   \n",
      "11                                          swing loans  label   \n",
      "12                                            generally  label   \n",
      "13    subject terms conditions hereof part revolving...  label   \n",
      "14    dollars borrower swing line individually swing...  label   \n",
      "15    swing loans may availed time time borrowings t...  label   \n",
      "16    each swing loan shall minimum amount greater a...  label   \n",
      "17                               b interest swing loans  label   \n",
      "18    each swing loan shall bear interest maturity w...  label   \n",
      "19    interest swing loan shall due payable borrower...  label   \n",
      "20                               c requests swing loans  label   \n",
      "21    the borrower shall give administrative agent p...  label   \n",
      "22    the administrative agent shall promptly advise...  label   \n",
      "23    thereafter swing line lender shall notify admi...  label   \n",
      "24    if swing line lender agrees make swing loan ma...  label   \n",
      "25    the borrower acknowledges agrees interest rate...  label   \n",
      "26    if borrower immediately accept swing line lend...  label   \n",
      "27    subject terms conditions hereof proceeds swing...  label   \n",
      "28    anything contained foregoing contrary notwiths...  label   \n",
      "29                                      refunding loans  label   \n",
      "...                                                 ...    ...   \n",
      "1233  the commitment amount increase shall effective...  label   \n",
      "1234  it shall condition effectiveness commitment am...  label   \n",
      "1235  the borrower hereby certifies default event de...  label   \n",
      "1236  insert bracketed paragraph new lender organize...  label   \n",
      "1237  please indicate administrative agents consent ...  label   \n",
      "1238  very truly american finance operating partners...  label   \n",
      "1239  bmo harris bank na administrative agent by nam...  label   \n",
      "1240  capitalized terms used herein without definiti...  label   \n",
      "1241  signature page follows the foregoing certifica...  label   \n",
      "1242  american finance operating partnership lp dela...  label   \n",
      "1243  terms defined credit agreement used herein mea...  label   \n",
      "1244  pursuant provisions section credit agreement u...  label   \n",
      "1245  the undersigned furnished administrative agent...  label   \n",
      "1246  person status irs form wbene by executing cert...  label   \n",
      "1247  name lender by name title date exhibit j form ...  label   \n",
      "1248  terms defined credit agreement used herein mea...  label   \n",
      "1249  pursuant provisions section credit agreement u...  label   \n",
      "1250  the undersigned furnished participating lender...  label   \n",
      "1251  person status irs form wbene by executing cert...  label   \n",
      "1252  name participant by name title date exhibit j ...  label   \n",
      "1253  terms defined credit agreement used herein mea...  label   \n",
      "1254  pursuant provisions section credit agreement u...  label   \n",
      "1255  the undersigned furnished participating lender...  label   \n",
      "1256  by executing certificate undersigned agrees in...  label   \n",
      "1257  name participant by name title date exhibit j ...  label   \n",
      "1258  terms defined credit agreement used herein mea...  label   \n",
      "1259  pursuant provisions section credit agreement u...  label   \n",
      "1260  the undersigned furnished administrative agent...  label   \n",
      "1261  by executing certificate undersigned agrees in...  label   \n",
      "1262  name lender by name title date schedule commit...  label   \n",
      "\n",
      "                                                    raw  \n",
      "0     NOW,\\nTherefore, in consideration of the mutua...  \n",
      "1                                 The\\nCredit Facility.  \n",
      "2                                         Section\\n1.1.  \n",
      "3                                          Commitments.  \n",
      "4     Subject to the terms and conditions hereof, ea...  \n",
      "5     Dollars to the Borrower from time to time on a...  \n",
      "6     The sum of the aggregate\\nprincipal amount of ...  \n",
      "7     Each Borrowing\\nof Revolving Loans shall be ma...  \n",
      "8     As provided in Section 1.6(a)\\nhereof, the Bor...  \n",
      "9     Revolving\\nLoans may be repaid and the princip...  \n",
      "10                                        Section\\n1.2.  \n",
      "11                                         Swing Loans.  \n",
      "12                                       (a) Generally.  \n",
      "13    Subject to the terms and conditions hereof, as...  \n",
      "14    Dollars to the Borrower under the Swing Line (...  \n",
      "15    Swing Loans may be availed of from time to tim...  \n",
      "16    Each Swing Loan shall be in a minimum amount o...  \n",
      "17               (b)          Interest\\non Swing Loans.  \n",
      "18    Each Swing Loan shall bear interest until matu...  \n",
      "19    Interest on each\\nSwing Loan shall be due and ...  \n",
      "20              (c)          Requests\\nfor Swing Loans.  \n",
      "21    The Borrower shall give the Administrative Age...  \n",
      "22    The Administrative Agent shall promptly advise...  \n",
      "23    Thereafter, the Swing Line Lender shall notify...  \n",
      "24    If the Swing Line Lender\\nagrees to make such ...  \n",
      "25    The Borrower acknowledges\\nand agrees that the...  \n",
      "26    If the Borrower does not so immediately\\naccep...  \n",
      "27    Subject to the terms and conditions hereof, th...  \n",
      "28    Anything contained in the foregoing to the con...  \n",
      "29                       (d)          Refunding\\nLoans.  \n",
      "...                                                 ...  \n",
      "1233  The Commitment Amount\\nIncrease shall be effec...  \n",
      "1234  It shall be a condition to the effectiveness\\n...  \n",
      "1235  The Borrower hereby certifies that no Default\\...  \n",
      "1236  *Insert bracketed paragraph if New Lender is o...  \n",
      "1237  - 2 - \\n \\n \\nPlease indicate the Administrati...  \n",
      "1238  Very truly yours,\\n\\n \\n \\n\\n \\nAmerican\\n    ...  \n",
      "1239  BMO Harris Bank N.A., as Administrative Agent\\...  \n",
      "1240  Capitalized terms\\nused herein without definit...  \n",
      "1241  [Signature\\nPage Follows]\\n \\n \\n \\n \\nThe for...  \n",
      "1242  American Finance Operating\\n Partnership,\\n   ...  \n",
      "1243  Terms defined in the Credit Agreement are used...  \n",
      "1244  Pursuant to the provisions of Section 12.1 of ...  \n",
      "1245  The undersigned has furnished the Administrati...  \n",
      "1246  Person status on IRS Form W-8BEN-E. By executi...  \n",
      "1247  [Name of Lender]\\n\\n \\n \\n \\n\\n \\nBy:\\n \\n\\n \\...  \n",
      "1248  Terms defined in the Credit Agreement are used...  \n",
      "1249  Pursuant to the provisions of Section 12.1 of ...  \n",
      "1250  The undersigned has furnished its participatin...  \n",
      "1251  Person status on IRS Form W-8BEN-E. By executi...  \n",
      "1252  [Name of Participant]\\n\\n \\n \\n \\n\\n \\nBy:\\n \\...  \n",
      "1253  Terms defined in the Credit Agreement are used...  \n",
      "1254  Pursuant to the\\nprovisions of Section 12.1 of...  \n",
      "1255  The undersigned\\nhas furnished its participati...  \n",
      "1256  By executing this certificate, the undersigned...  \n",
      "1257  [Name of Participant]\\n\\n \\n \\n \\n\\n \\nBy:\\n \\...  \n",
      "1258  Terms defined in the Credit Agreement are used...  \n",
      "1259  Pursuant to\\nthe provisions of Section 12.1 of...  \n",
      "1260  The undersigned\\nhas furnished the Administrat...  \n",
      "1261  By executing this certificate, the undersigned...  \n",
      "1262  [Name of Lender]\\n\\n \\n \\n \\n\\n \\nBy:\\n \\n\\n \\...  \n",
      "\n",
      "[1263 rows x 3 columns]\n"
     ]
    }
   ],
   "source": [
    "print(df)"
   ]
  },
  {
   "cell_type": "code",
   "execution_count": null,
   "metadata": {
    "collapsed": false,
    "outputHidden": false,
    "inputHidden": false
   },
   "outputs": [],
   "source": []
  }
 ],
 "metadata": {
  "kernelspec": {
   "name": "python3",
   "language": "python",
   "display_name": "Python 3"
  },
  "language_info": {
   "name": "python",
   "version": "3.6.4",
   "mimetype": "text/x-python",
   "codemirror_mode": {
    "name": "ipython",
    "version": 3
   },
   "pygments_lexer": "ipython3",
   "nbconvert_exporter": "python",
   "file_extension": ".py"
  },
  "kernel_info": {
   "name": "python3"
  },
  "nteract": {
   "version": "0.11.6"
  },
  "gist_id": "360091f27d7a0fda116e177da1c8fd49"
 },
 "nbformat": 4,
 "nbformat_minor": 0
}
