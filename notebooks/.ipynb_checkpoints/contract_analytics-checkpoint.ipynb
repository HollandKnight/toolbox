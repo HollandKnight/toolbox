{
 "cells": [
  {
   "cell_type": "code",
   "execution_count": 1,
   "metadata": {
    "inputHidden": false,
    "outputExpanded": true,
    "outputHidden": true,
    "scrolled": true
   },
   "outputs": [],
   "source": [
    "import json\n",
    "import pandas as pd\n",
    "pd.options.display.html.table_schema = True\n",
    "pd.options.display.max_rows = None\n",
    "pd.options.display.max_columns = 10\n",
    "pd.options.display.max_colwidth = 60\n",
    "pd.options.display.width = 180\n",
    "pd.options.display.expand_frame_repr = True\n",
    "\n",
    "text_list = []\n",
    "category_list = []\n",
    "with open('/Users/josiasdewey/jupyter/CAN/samples/test.txt', 'r', encoding='utf-8') as f:\n",
    "    s = f.read()\n",
    "parsed_json = json.loads(s)\n",
    "elm = parsed_json['elements']\n",
    "x = len(elm)\n",
    "for i in range(x):\n",
    "    row = 'row' + str(i)\n",
    "    text = elm[i]['sentence_text']\n",
    "    try:\n",
    "        category = elm[i]['categories'][0]['label']\n",
    "    except:\n",
    "        category = 'no label'\n",
    "    text_list.append(text)\n",
    "    category_list.append(category)"
   ]
  },
  {
   "cell_type": "code",
   "execution_count": 7,
   "metadata": {},
   "outputs": [
    {
     "data": {
      "application/vnd.jupyter.widget-view+json": {
       "model_id": "9a2b46c4560d4d0693c2666b57d6e4a9",
       "version_major": 2,
       "version_minor": 0
      }
     },
     "metadata": {},
     "output_type": "display_data"
    }
   ],
   "source": [
    "data = {'text': text_list, 'category': category_list}\n",
    "df_1 = pd.DataFrame(data['category'], columns=['category'])\n",
    "df_2 = pd.DataFrame(data['text'], columns=['text'])\n",
    "df = df_1.join(df_2)\n",
    "df.head(5)"
   ]
  }
 ],
 "metadata": {
  "kernel_info": {
   "name": "python3"
  },
  "kernelspec": {
   "display_name": "Python 3",
   "language": "python",
   "name": "python3"
  },
  "language_info": {
   "codemirror_mode": {
    "name": "ipython",
    "version": 3
   },
   "file_extension": ".py",
   "mimetype": "text/x-python",
   "name": "python",
   "nbconvert_exporter": "python",
   "pygments_lexer": "ipython3",
   "version": "3.6.4"
  },
  "nteract": {
   "version": "0.11.6"
  },
  "toc": {
   "base_numbering": 1,
   "nav_menu": {},
   "number_sections": false,
   "sideBar": false,
   "skip_h1_title": false,
   "title_cell": "Table of Contents",
   "title_sidebar": "Contents",
   "toc_cell": false,
   "toc_position": {},
   "toc_section_display": false,
   "toc_window_display": false
  }
 },
 "nbformat": 4,
 "nbformat_minor": 4
}
