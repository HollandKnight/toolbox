{
 "cells": [
  {
   "cell_type": "code",
   "execution_count": 2,
   "metadata": {
    "inputHidden": false,
    "outputHidden": false
   },
   "outputs": [],
   "source": [
    "import pandas as pd\n",
    "import IPython\n",
    "pd.options.display.html.table_schema = True\n",
    "pd.options.display.max_rows = None\n",
    "pd.options.display.max_columns = 10\n",
    "pd.options.display.max_colwidth = 60\n",
    "pd.options.display.width = 180\n",
    "pd.options.display.expand_frame_repr = True\n",
    "from diff_match_patch import diff_match_patch\n",
    "from IPython.display import display, HTML\n",
    "import os\n",
    "import simplejson as json"
   ]
  },
  {
   "cell_type": "code",
   "execution_count": 3,
   "metadata": {
    "inputHidden": false,
    "outputExpanded": true,
    "outputHidden": true
   },
   "outputs": [
    {
     "name": "stdout",
     "output_type": "stream",
     "text": [
      "  % Total    % Received % Xferd  Average Speed   Time    Time     Time  Current\n",
      "                                 Dload  Upload   Total   Spent    Left  Speed\n",
      "100 3393k  100   153  100 3393k      9   203k  0:00:17  0:00:16  0:00:01  808k\n",
      "{\n",
      "  \"code\" : 500,\n",
      "  \"error\" : \"The document could not be processed because Input too complex for functions mode. Please, use Batch mode for this file.\"\n",
      "}\n"
     ]
    }
   ],
   "source": [
    "os.chdir('/Users/josiasdewey/jupyter/')\n",
    "!curl -X POST -u \"apikey\":\"O9kLEf2VYAcC63iUMklAYY-0bpFjCrygj1riDWSmP9ck\" -F 'file1=@z1.pdf;type=application/pdf' -F 'file2=@z2.pdf;type=application/pdf' \"https://gateway.watsonplatform.net/compare-comply/api/v1/comparison?version=2018-08-24&model=contracts\" >> output.txt\n",
    "with open('output.txt', 'r', encoding='utf-8') as f:\n",
    "    response = f.read()\n",
    "print(response)"
   ]
  },
  {
   "cell_type": "code",
   "execution_count": 136,
   "metadata": {
    "inputHidden": false,
    "outputHidden": false
   },
   "outputs": [],
   "source": [
    "with open('output.json', 'w', encoding='utf-8') as f:\n",
    "    f.write(response)\n"
   ]
  },
  {
   "cell_type": "code",
   "execution_count": 4,
   "metadata": {
    "inputHidden": false,
    "outputExpanded": true,
    "outputHidden": false,
    "scrolled": true
   },
   "outputs": [
    {
     "ename": "KeyError",
     "evalue": "'aligned_elements'",
     "output_type": "error",
     "traceback": [
      "\u001b[0;31m---------------------------------------------------------------------------\u001b[0m",
      "\u001b[0;31mKeyError\u001b[0m                                  Traceback (most recent call last)",
      "\u001b[0;32m<ipython-input-4-f0b54d6dc5f8>\u001b[0m in \u001b[0;36m<module>\u001b[0;34m()\u001b[0m\n\u001b[1;32m      4\u001b[0m     \u001b[0ms\u001b[0m \u001b[0;34m=\u001b[0m \u001b[0mf\u001b[0m\u001b[0;34m.\u001b[0m\u001b[0mread\u001b[0m\u001b[0;34m(\u001b[0m\u001b[0;34m)\u001b[0m\u001b[0;34m\u001b[0m\u001b[0m\n\u001b[1;32m      5\u001b[0m \u001b[0mparsed_json\u001b[0m \u001b[0;34m=\u001b[0m \u001b[0mjson\u001b[0m\u001b[0;34m.\u001b[0m\u001b[0mloads\u001b[0m\u001b[0;34m(\u001b[0m\u001b[0ms\u001b[0m\u001b[0;34m)\u001b[0m\u001b[0;34m\u001b[0m\u001b[0m\n\u001b[0;32m----> 6\u001b[0;31m \u001b[0melm\u001b[0m \u001b[0;34m=\u001b[0m \u001b[0mparsed_json\u001b[0m\u001b[0;34m[\u001b[0m\u001b[0;34m'aligned_elements'\u001b[0m\u001b[0;34m]\u001b[0m\u001b[0;34m\u001b[0m\u001b[0m\n\u001b[0m\u001b[1;32m      7\u001b[0m \u001b[0;32mfor\u001b[0m \u001b[0mitem\u001b[0m \u001b[0;32min\u001b[0m \u001b[0melm\u001b[0m\u001b[0;34m:\u001b[0m\u001b[0;34m\u001b[0m\u001b[0m\n\u001b[1;32m      8\u001b[0m     \u001b[0;32mif\u001b[0m \u001b[0mitem\u001b[0m\u001b[0;34m[\u001b[0m\u001b[0;34m'identical_text'\u001b[0m\u001b[0;34m]\u001b[0m \u001b[0;34m==\u001b[0m \u001b[0;32mFalse\u001b[0m\u001b[0;34m:\u001b[0m\u001b[0;34m\u001b[0m\u001b[0m\n",
      "\u001b[0;31mKeyError\u001b[0m: 'aligned_elements'"
     ]
    }
   ],
   "source": [
    "text_list_1 = []\n",
    "text_list_2 = []\n",
    "with open('/Users/josiasdewey/jupyter/output.txt', 'r', encoding='utf-8') as f:\n",
    "    s = f.read()\n",
    "parsed_json = json.loads(s)\n",
    "elm = parsed_json['aligned_elements']\n",
    "for item in elm:\n",
    "    if item['identical_text'] == False:\n",
    "        y= item[\"element_pair\"]\n",
    "        for t in y:\n",
    "            if t['document_label'] == 'file1':\n",
    "                text_list_1.append(t['sentence_text'])\n",
    "            else:\n",
    "                text_list_2.append(t['sentence_text'])\n",
    "print(text_list_1)\n",
    "print(text_list_2)\n",
    "  #  category_list.append(category)"
   ]
  },
  {
   "cell_type": "code",
   "execution_count": 102,
   "metadata": {
    "outputExpanded": false
   },
   "outputs": [
    {
     "name": "stdout",
     "output_type": "stream",
     "text": [
      "                                                        text_1                                                       text_2\n",
      "0  Each Borrowing of Revolving Loans shall be made ratably ...  Each Borrowing of Revolving Loans shall be made ratably ...\n",
      "1  (i) the Revolving Credit Commitments of all Lenders in e...  (i) the Commitments of all Lenders in effect at such tim...\n",
      "2  Subject to the terms and conditions hereof, each Lender,...  Subject to the terms and conditions hereof, each Lender,...\n"
     ]
    },
    {
     "data": {
      "application/vnd.jupyter.widget-view+json": {
       "model_id": "95d4e1ae095f45458a5061999c6b469d",
       "version_major": 2,
       "version_minor": 0
      }
     },
     "metadata": {},
     "output_type": "display_data"
    }
   ],
   "source": [
    "data = {'text_1': text_list_1, 'text_2': text_list_2}\n",
    "df_1 = pd.DataFrame(data['text_1'], columns=['text_1'])\n",
    "df_2 = pd.DataFrame(data['text_2'], columns=['text_2'])\n",
    "df = df_1.join(df_2)\n",
    "print(df.head(50))\n",
    "IPython.display.display(df)"
   ]
  },
  {
   "cell_type": "code",
   "execution_count": 110,
   "metadata": {
    "inputHidden": false,
    "outputHidden": false
   },
   "outputs": [
    {
     "data": {
      "text/html": [
       "<span>Each Borrowing of Revolving Loans shall be made ratably by the Lenders in proportion to their respective </span><ins style=\"background:#e6ffe6;\">Revolver </ins><span>Percentages.</span>"
      ],
      "text/plain": [
       "<IPython.core.display.HTML object>"
      ]
     },
     "metadata": {},
     "output_type": "display_data"
    },
    {
     "data": {
      "text/html": [
       "<span>(i) the </span><ins style=\"background:#e6ffe6;\">Revolving Credit </ins><span>Commitments of all Lenders in effect at such time and</span>"
      ],
      "text/plain": [
       "<IPython.core.display.HTML object>"
      ]
     },
     "metadata": {},
     "output_type": "display_data"
    },
    {
     "data": {
      "text/html": [
       "<span>Subject to the terms and conditions hereof, each Lender, by its acceptance hereof, severally agrees to make a loan or loans (individually a \"</span><del style=\"background:#ffe6e6;\"> </del><span>Revolving Loan</span><del style=\"background:#ffe6e6;\"> </del><span>\" and collectively for all the Lenders the \"</span><del style=\"background:#ffe6e6;\"> </del><span>Revolving Loans</span><del style=\"background:#ffe6e6;\"> </del><span>\"</span><ins style=\"background:#e6ffe6;\"> </ins><span>) in U.S. Dollars to the Borrower from time to time on a revolving basis up to the amount of such Lender's</span><ins style=\"background:#e6ffe6;\"> Revolving Credit</ins><span> Commitment, subject to any reductions thereof pursuant to the terms hereof, before the Termination Date.</span>"
      ],
      "text/plain": [
       "<IPython.core.display.HTML object>"
      ]
     },
     "metadata": {},
     "output_type": "display_data"
    }
   ],
   "source": [
    "dmp = diff_match_patch()\n",
    "precedent = df[\"text_1\"] \n",
    "current = df[\"text_2\"] \n",
    "changes = [] \n",
    "dmp.Diff_Timeout = 0\n",
    "index = 0\n",
    "for row in precedent: \n",
    "    diff = dmp.diff_main(current[index], precedent[index]) \n",
    "    view = dmp.diff_prettyHtml(diff) \n",
    "    display(HTML(view)) \n",
    "    changes.append(view)\n",
    "    index = index+1\n",
    "with open('test.html', 'w+') as f:\n",
    "            f.write(' '.join(changes))\n"
   ]
  },
  {
   "cell_type": "code",
   "execution_count": 12,
   "metadata": {
    "inputHidden": false,
    "outputExpanded": true,
    "outputHidden": false
   },
   "outputs": [],
   "source": [
    "df_state = pd.read_excel('state_perkins.xlsx')"
   ]
  },
  {
   "cell_type": "code",
   "execution_count": 13,
   "metadata": {
    "inputHidden": false,
    "outputHidden": false
   },
   "outputs": [
    {
     "data": {
      "application/vnd.jupyter.widget-view+json": {
       "model_id": "73a5eb19e1f942408812e887c1d52cd8",
       "version_major": 2,
       "version_minor": 0
      }
     },
     "metadata": {},
     "output_type": "display_data"
    }
   ],
   "source": [
    "df_state"
   ]
  },
  {
   "cell_type": "code",
   "execution_count": null,
   "metadata": {
    "inputHidden": false,
    "outputHidden": false
   },
   "outputs": [],
   "source": []
  }
 ],
 "metadata": {
  "kernel_info": {
   "name": "python3"
  },
  "kernelspec": {
   "display_name": "Python 3",
   "language": "python",
   "name": "python3"
  },
  "language_info": {
   "codemirror_mode": {
    "name": "ipython",
    "version": 3
   },
   "file_extension": ".py",
   "mimetype": "text/x-python",
   "name": "python",
   "nbconvert_exporter": "python",
   "pygments_lexer": "ipython3",
   "version": "3.6.4"
  },
  "nteract": {
   "version": "0.11.6"
  },
  "toc": {
   "base_numbering": 1,
   "nav_menu": {},
   "number_sections": false,
   "sideBar": false,
   "skip_h1_title": false,
   "title_cell": "Table of Contents",
   "title_sidebar": "Contents",
   "toc_cell": false,
   "toc_position": {},
   "toc_section_display": false,
   "toc_window_display": false
  }
 },
 "nbformat": 4,
 "nbformat_minor": 4
}
